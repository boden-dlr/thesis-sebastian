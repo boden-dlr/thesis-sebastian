{
 "cells": [
  {
   "cell_type": "code",
   "execution_count": 2,
   "metadata": {},
   "outputs": [],
   "source": [
    "using DataFrames\n",
    "using CSV"
   ]
  },
  {
   "cell_type": "code",
   "execution_count": 3,
   "metadata": {},
   "outputs": [
    {
     "data": {
      "text/html": [
       "<table class=\"data-frame\"><thead><tr><th></th><th>seed</th><th>doc</th><th>lines</th><th>round</th><th>k</th><th>train</th><th>test</th><th>train_dbscan1_n</th><th>train_dbscan1_betacv</th><th>train_dbscan1_sdbw</th><th>train_dbscan2_n</th><th>train_dbscan2_betacv</th><th>train_dbscan2_sdbw</th><th>train_dbscan3_n</th><th>train_dbscan3_betacv</th><th>train_dbscan3_sdbw</th><th>train_knn_n</th><th>train_knn_betacv</th><th>train_knn_sdbw</th><th>test_dbscan1_n</th><th>test_dbscan1_betacv</th><th>test_dbscan1_sdbw</th><th>test_dbscan2_n</th><th>test_dbscan2_betacv</th><th>test_dbscan2_sdbw</th><th>test_dbscan3_n</th><th>test_dbscan3_betacv</th><th>test_dbscan3_sdbw</th><th>test_knn_n</th><th>test_knn_betacv</th><th>test_knn_sdbw</th></tr></thead><tbody><tr><th>1</th><td>542</td><td>1</td><td>1387</td><td>1</td><td>5</td><td>1108</td><td>277</td><td>32</td><td>0.939732</td><td>0.00117319</td><td>264</td><td>1.69034</td><td>6.66148e-5</td><td>634</td><td>0.00142405</td><td>2.28471e-7</td><td>222</td><td>0.105172</td><td>0.00701529</td><td>15</td><td>0.222041</td><td>0.00127168</td><td>103</td><td>0.170782</td><td>4.18586e-5</td><td>183</td><td>0.000165585</td><td>4.07963e-8</td><td>55</td><td>0.127696</td><td>0.00404628</td></tr><tr><th>2</th><td>542</td><td>1</td><td>1387</td><td>2</td><td>5</td><td>1108</td><td>277</td><td>31</td><td>0.625031</td><td>0.00091268</td><td>281</td><td>1.3958</td><td>3.95768e-5</td><td>607</td><td>0.00111664</td><td>1.28296e-7</td><td>221</td><td>0.0922941</td><td>0.00526318</td><td>9</td><td>0.231378</td><td>0.00233456</td><td>109</td><td>0.906267</td><td>8.99453e-5</td><td>193</td><td>0.000420884</td><td>1.97883e-7</td><td>58</td><td>0.148232</td><td>0.00515535</td></tr><tr><th>3</th><td>542</td><td>1</td><td>1387</td><td>3</td><td>5</td><td>1108</td><td>277</td><td>24</td><td>0.427842</td><td>0.000642219</td><td>274</td><td>0.950181</td><td>4.78273e-5</td><td>666</td><td>0.000547996</td><td>1.28521e-7</td><td>216</td><td>0.077664</td><td>0.00293147</td><td>19</td><td>0.686431</td><td>0.00529153</td><td>55</td><td>0.877755</td><td>9.76583e-5</td><td>144</td><td>0.00205939</td><td>4.82064e-7</td><td>58</td><td>0.339088</td><td>0.0495833</td></tr><tr><th>4</th><td>542</td><td>1</td><td>1387</td><td>4</td><td>5</td><td>1108</td><td>277</td><td>27</td><td>0.614831</td><td>0.000849043</td><td>282</td><td>1.76991</td><td>5.63506e-5</td><td>670</td><td>0.000801227</td><td>1.52778e-7</td><td>236</td><td>0.0839735</td><td>0.00450748</td><td>22</td><td>0.273457</td><td>0.00187778</td><td>104</td><td>0.318653</td><td>4.09882e-5</td><td>172</td><td>0.000881625</td><td>1.55199e-7</td><td>66</td><td>0.163331</td><td>0.00666926</td></tr><tr><th>5</th><td>542</td><td>1</td><td>1387</td><td>5</td><td>5</td><td>1108</td><td>277</td><td>31</td><td>0.444385</td><td>0.000656264</td><td>257</td><td>1.69167</td><td>3.73909e-5</td><td>604</td><td>0.000965161</td><td>1.16216e-7</td><td>216</td><td>0.0895652</td><td>0.00441814</td><td>12</td><td>0.498804</td><td>0.002583</td><td>114</td><td>0.164938</td><td>7.55338e-5</td><td>195</td><td>0.000384724</td><td>3.05392e-7</td><td>55</td><td>0.137319</td><td>0.00463979</td></tr><tr><th>6</th><td>2371</td><td>1</td><td>1387</td><td>1</td><td>5</td><td>1108</td><td>277</td><td>33</td><td>0.871304</td><td>0.00128917</td><td>263</td><td>1.70074</td><td>7.6221e-5</td><td>634</td><td>0.00156777</td><td>2.77326e-7</td><td>226</td><td>0.105937</td><td>0.00595777</td><td>15</td><td>0.232136</td><td>0.0014774</td><td>102</td><td>0.172176</td><td>4.93627e-5</td><td>183</td><td>0.000185797</td><td>5.31704e-8</td><td>54</td><td>0.158079</td><td>0.00665931</td></tr><tr><th>7</th><td>2371</td><td>1</td><td>1387</td><td>2</td><td>5</td><td>1108</td><td>277</td><td>32</td><td>0.585332</td><td>0.000996426</td><td>279</td><td>1.40578</td><td>4.82501e-5</td><td>607</td><td>0.00124322</td><td>1.61854e-7</td><td>229</td><td>0.0870452</td><td>0.00404364</td><td>9</td><td>0.22735</td><td>0.00228154</td><td>108</td><td>0.869426</td><td>9.58879e-5</td><td>193</td><td>0.000448249</td><td>2.17944e-7</td><td>61</td><td>0.173066</td><td>0.00582181</td></tr><tr><th>8</th><td>2371</td><td>1</td><td>1387</td><td>3</td><td>5</td><td>1108</td><td>277</td><td>25</td><td>0.460014</td><td>0.000723883</td><td>272</td><td>0.96493</td><td>5.64708e-5</td><td>666</td><td>0.000612192</td><td>1.61589e-7</td><td>226</td><td>0.0913023</td><td>0.00439893</td><td>20</td><td>0.549584</td><td>0.00429396</td><td>55</td><td>0.862657</td><td>9.89007e-5</td><td>144</td><td>0.00221847</td><td>5.46903e-7</td><td>58</td><td>0.295088</td><td>0.0259584</td></tr><tr><th>9</th><td>2371</td><td>1</td><td>1387</td><td>4</td><td>5</td><td>1108</td><td>277</td><td>29</td><td>0.596448</td><td>0.000850057</td><td>280</td><td>1.73958</td><td>6.0672e-5</td><td>670</td><td>0.00087685</td><td>1.83713e-7</td><td>232</td><td>0.0919708</td><td>0.00386763</td><td>22</td><td>0.287497</td><td>0.00232878</td><td>102</td><td>0.315963</td><td>4.89794e-5</td><td>172</td><td>0.000968974</td><td>1.86698e-7</td><td>61</td><td>0.16754</td><td>0.00813449</td></tr><tr><th>10</th><td>2371</td><td>1</td><td>1387</td><td>5</td><td>5</td><td>1108</td><td>277</td><td>32</td><td>0.421768</td><td>0.000596355</td><td>260</td><td>1.56264</td><td>3.16102e-5</td><td>604</td><td>0.00101093</td><td>1.14853e-7</td><td>224</td><td>0.103673</td><td>0.00381472</td><td>13</td><td>0.50917</td><td>0.00295664</td><td>113</td><td>0.155435</td><td>7.43817e-5</td><td>195</td><td>0.000421341</td><td>3.52036e-7</td><td>57</td><td>0.132355</td><td>0.00445716</td></tr><tr><th>11</th><td>930</td><td>1</td><td>1387</td><td>1</td><td>5</td><td>1108</td><td>277</td><td>33</td><td>0.833626</td><td>0.00114291</td><td>272</td><td>1.66395</td><td>6.20865e-5</td><td>634</td><td>0.00143791</td><td>2.38769e-7</td><td>228</td><td>0.111213</td><td>0.00587565</td><td>15</td><td>0.228228</td><td>0.00136163</td><td>101</td><td>0.163946</td><td>4.70593e-5</td><td>183</td><td>0.000169196</td><td>4.71883e-8</td><td>56</td><td>0.136</td><td>0.00495462</td></tr><tr><th>12</th><td>930</td><td>1</td><td>1387</td><td>2</td><td>5</td><td>1108</td><td>277</td><td>33</td><td>0.57236</td><td>0.00087291</td><td>283</td><td>1.34332</td><td>4.21481e-5</td><td>607</td><td>0.0011331</td><td>1.42158e-7</td><td>220</td><td>0.0983212</td><td>0.00467233</td><td>9</td><td>0.228058</td><td>0.00225897</td><td>111</td><td>0.878886</td><td>7.66166e-5</td><td>193</td><td>0.000423469</td><td>2.01589e-7</td><td>54</td><td>0.124673</td><td>0.00419274</td></tr><tr><th>13</th><td>930</td><td>1</td><td>1387</td><td>3</td><td>5</td><td>1108</td><td>277</td><td>24</td><td>0.425901</td><td>0.00066251</td><td>277</td><td>0.929672</td><td>4.8963e-5</td><td>666</td><td>0.000559625</td><td>1.424e-7</td><td>222</td><td>0.0834912</td><td>0.00381817</td><td>21</td><td>0.539094</td><td>0.0037949</td><td>55</td><td>0.807035</td><td>8.59499e-5</td><td>144</td><td>0.0020122</td><td>4.59015e-7</td><td>51</td><td>0.255524</td><td>0.0454874</td></tr><tr><th>14</th><td>930</td><td>1</td><td>1387</td><td>4</td><td>5</td><td>1108</td><td>277</td><td>29</td><td>0.578034</td><td>0.000806466</td><td>284</td><td>1.70483</td><td>5.64925e-5</td><td>670</td><td>0.00081173</td><td>1.6738e-7</td><td>226</td><td>0.0946452</td><td>0.00459754</td><td>22</td><td>0.29227</td><td>0.00183481</td><td>103</td><td>0.309169</td><td>4.47689e-5</td><td>172</td><td>0.000898956</td><td>1.71474e-7</td><td>64</td><td>0.142563</td><td>0.00814839</td></tr><tr><th>15</th><td>930</td><td>1</td><td>1387</td><td>5</td><td>5</td><td>1108</td><td>277</td><td>31</td><td>0.447602</td><td>0.000794304</td><td>257</td><td>1.69338</td><td>4.23794e-5</td><td>604</td><td>0.00100474</td><td>1.32928e-7</td><td>220</td><td>0.102037</td><td>0.00566649</td><td>11</td><td>0.459997</td><td>0.00258459</td><td>113</td><td>0.167117</td><td>7.34997e-5</td><td>195</td><td>0.000393096</td><td>3.17682e-7</td><td>55</td><td>0.143883</td><td>0.00528317</td></tr><tr><th>16</th><td>4646</td><td>1</td><td>1387</td><td>1</td><td>5</td><td>1108</td><td>277</td><td>32</td><td>0.786694</td><td>0.00108935</td><td>268</td><td>1.57173</td><td>6.17233e-5</td><td>634</td><td>0.00133999</td><td>2.17026e-7</td><td>226</td><td>0.0910381</td><td>0.00651375</td><td>15</td><td>0.212576</td><td>0.00120878</td><td>103</td><td>0.148364</td><td>3.68732e-5</td><td>183</td><td>0.000152114</td><td>3.80208e-8</td><td>56</td><td>0.138619</td><td>0.00466017</td></tr><tr><th>17</th><td>4646</td><td>1</td><td>1387</td><td>2</td><td>5</td><td>1108</td><td>277</td><td>33</td><td>0.546803</td><td>0.000788473</td><td>281</td><td>1.23546</td><td>3.6493e-5</td><td>607</td><td>0.00103922</td><td>1.20322e-7</td><td>216</td><td>0.0795699</td><td>0.00309964</td><td>10</td><td>0.243152</td><td>0.00215956</td><td>110</td><td>0.811227</td><td>7.10155e-5</td><td>193</td><td>0.000390097</td><td>1.82281e-7</td><td>58</td><td>0.157905</td><td>0.00538757</td></tr><tr><th>18</th><td>4646</td><td>1</td><td>1387</td><td>3</td><td>5</td><td>1108</td><td>277</td><td>24</td><td>0.403158</td><td>0.00058516</td><td>273</td><td>0.853093</td><td>4.43536e-5</td><td>666</td><td>0.000506619</td><td>1.1742e-7</td><td>223</td><td>0.0736997</td><td>0.00235605</td><td>21</td><td>0.542107</td><td>0.0041996</td><td>55</td><td>0.807376</td><td>8.98871e-5</td><td>144</td><td>0.00198904</td><td>4.84834e-7</td><td>57</td><td>0.311334</td><td>0.0277218</td></tr><tr><th>19</th><td>4646</td><td>1</td><td>1387</td><td>4</td><td>5</td><td>1108</td><td>277</td><td>28</td><td>0.534679</td><td>0.000729427</td><td>282</td><td>1.58122</td><td>4.98912e-5</td><td>670</td><td>0.000744208</td><td>1.42429e-7</td><td>229</td><td>0.0770719</td><td>0.00452688</td><td>24</td><td>0.284668</td><td>0.00153386</td><td>105</td><td>0.29025</td><td>4.06396e-5</td><td>172</td><td>0.000818248</td><td>1.43501e-7</td><td>63</td><td>0.146517</td><td>0.00617562</td></tr><tr><th>20</th><td>4646</td><td>1</td><td>1387</td><td>5</td><td>5</td><td>1108</td><td>277</td><td>33</td><td>0.459332</td><td>0.000670494</td><td>257</td><td>1.61131</td><td>3.95982e-5</td><td>604</td><td>0.000938159</td><td>1.16044e-7</td><td>214</td><td>0.0843243</td><td>0.00439859</td><td>11</td><td>0.463905</td><td>0.00275029</td><td>112</td><td>0.160475</td><td>7.74876e-5</td><td>195</td><td>0.00037406</td><td>3.12809e-7</td><td>54</td><td>0.12935</td><td>0.00524897</td></tr><tr><th>21</th><td>4022</td><td>1</td><td>1387</td><td>1</td><td>5</td><td>1108</td><td>277</td><td>34</td><td>0.82008</td><td>0.00100226</td><td>244</td><td>1.37126</td><td>7.29193e-5</td><td>634</td><td>0.00142401</td><td>2.28737e-7</td><td>233</td><td>0.111024</td><td>0.00498844</td><td>15</td><td>0.206072</td><td>0.0010177</td><td>103</td><td>0.139991</td><td>3.03611e-5</td><td>183</td><td>0.000157589</td><td>3.52908e-8</td><td>55</td><td>0.110636</td><td>0.00302288</td></tr><tr><th>22</th><td>4022</td><td>1</td><td>1387</td><td>2</td><td>5</td><td>1108</td><td>277</td><td>33</td><td>0.526344</td><td>0.000707159</td><td>272</td><td>1.12937</td><td>3.41133e-5</td><td>607</td><td>0.00108388</td><td>1.16352e-7</td><td>226</td><td>0.0872958</td><td>0.00296922</td><td>9</td><td>0.217842</td><td>0.00239477</td><td>107</td><td>0.760702</td><td>8.4264e-5</td><td>193</td><td>0.000420379</td><td>2.02971e-7</td><td>59</td><td>0.138079</td><td>0.00408022</td></tr><tr><th>23</th><td>4022</td><td>1</td><td>1387</td><td>3</td><td>5</td><td>1108</td><td>277</td><td>24</td><td>0.394715</td><td>0.000541169</td><td>258</td><td>0.769249</td><td>4.41084e-5</td><td>666</td><td>0.000532028</td><td>1.16149e-7</td><td>225</td><td>0.0785306</td><td>0.00265053</td><td>21</td><td>0.519964</td><td>0.00401306</td><td>55</td><td>0.764432</td><td>8.79296e-5</td><td>144</td><td>0.00211918</td><td>5.31854e-7</td><td>55</td><td>0.301156</td><td>0.0511184</td></tr><tr><th>24</th><td>4022</td><td>1</td><td>1387</td><td>4</td><td>5</td><td>1108</td><td>277</td><td>28</td><td>0.519743</td><td>0.000665999</td><td>266</td><td>1.41829</td><td>5.19799e-5</td><td>670</td><td>0.000783062</td><td>1.4093e-7</td><td>241</td><td>0.0887416</td><td>0.00275523</td><td>24</td><td>0.268017</td><td>0.00134225</td><td>102</td><td>0.263901</td><td>3.47366e-5</td><td>172</td><td>0.000853048</td><td>1.41004e-7</td><td>62</td><td>0.133288</td><td>0.00613613</td></tr><tr><th>25</th><td>4022</td><td>1</td><td>1387</td><td>5</td><td>5</td><td>1108</td><td>277</td><td>31</td><td>0.403502</td><td>0.00059909</td><td>242</td><td>1.36744</td><td>3.78752e-5</td><td>604</td><td>0.00095684</td><td>1.04571e-7</td><td>221</td><td>0.0940644</td><td>0.00427533</td><td>11</td><td>0.456805</td><td>0.00266898</td><td>109</td><td>0.318011</td><td>9.00475e-5</td><td>195</td><td>0.00039913</td><td>3.338e-7</td><td>57</td><td>0.136771</td><td>0.00642472</td></tr></tbody></table>"
      ],
      "text/plain": [
       "25×31 DataFrames.DataFrame. Omitted printing of 23 columns\n",
       "│ Row │ seed │ doc │ lines │ round │ k │ train │ test │ train_dbscan1_n │\n",
       "├─────┼──────┼─────┼───────┼───────┼───┼───────┼──────┼─────────────────┤\n",
       "│ 1   │ 542  │ 1   │ 1387  │ 1     │ 5 │ 1108  │ 277  │ 32              │\n",
       "│ 2   │ 542  │ 1   │ 1387  │ 2     │ 5 │ 1108  │ 277  │ 31              │\n",
       "│ 3   │ 542  │ 1   │ 1387  │ 3     │ 5 │ 1108  │ 277  │ 24              │\n",
       "│ 4   │ 542  │ 1   │ 1387  │ 4     │ 5 │ 1108  │ 277  │ 27              │\n",
       "│ 5   │ 542  │ 1   │ 1387  │ 5     │ 5 │ 1108  │ 277  │ 31              │\n",
       "│ 6   │ 2371 │ 1   │ 1387  │ 1     │ 5 │ 1108  │ 277  │ 33              │\n",
       "│ 7   │ 2371 │ 1   │ 1387  │ 2     │ 5 │ 1108  │ 277  │ 32              │\n",
       "│ 8   │ 2371 │ 1   │ 1387  │ 3     │ 5 │ 1108  │ 277  │ 25              │\n",
       "│ 9   │ 2371 │ 1   │ 1387  │ 4     │ 5 │ 1108  │ 277  │ 29              │\n",
       "│ 10  │ 2371 │ 1   │ 1387  │ 5     │ 5 │ 1108  │ 277  │ 32              │\n",
       "│ 11  │ 930  │ 1   │ 1387  │ 1     │ 5 │ 1108  │ 277  │ 33              │\n",
       "│ 12  │ 930  │ 1   │ 1387  │ 2     │ 5 │ 1108  │ 277  │ 33              │\n",
       "│ 13  │ 930  │ 1   │ 1387  │ 3     │ 5 │ 1108  │ 277  │ 24              │\n",
       "│ 14  │ 930  │ 1   │ 1387  │ 4     │ 5 │ 1108  │ 277  │ 29              │\n",
       "│ 15  │ 930  │ 1   │ 1387  │ 5     │ 5 │ 1108  │ 277  │ 31              │\n",
       "│ 16  │ 4646 │ 1   │ 1387  │ 1     │ 5 │ 1108  │ 277  │ 32              │\n",
       "│ 17  │ 4646 │ 1   │ 1387  │ 2     │ 5 │ 1108  │ 277  │ 33              │\n",
       "│ 18  │ 4646 │ 1   │ 1387  │ 3     │ 5 │ 1108  │ 277  │ 24              │\n",
       "│ 19  │ 4646 │ 1   │ 1387  │ 4     │ 5 │ 1108  │ 277  │ 28              │\n",
       "│ 20  │ 4646 │ 1   │ 1387  │ 5     │ 5 │ 1108  │ 277  │ 33              │\n",
       "│ 21  │ 4022 │ 1   │ 1387  │ 1     │ 5 │ 1108  │ 277  │ 34              │\n",
       "│ 22  │ 4022 │ 1   │ 1387  │ 2     │ 5 │ 1108  │ 277  │ 33              │\n",
       "│ 23  │ 4022 │ 1   │ 1387  │ 3     │ 5 │ 1108  │ 277  │ 24              │\n",
       "│ 24  │ 4022 │ 1   │ 1387  │ 4     │ 5 │ 1108  │ 277  │ 28              │\n",
       "│ 25  │ 4022 │ 1   │ 1387  │ 5     │ 5 │ 1108  │ 277  │ 31              │"
      ]
     },
     "execution_count": 3,
     "metadata": {},
     "output_type": "execute_result"
    }
   ],
   "source": [
    "df = CSV.read(\"/home/sebastian/develop/julia/dev/LogClustering.jl/data/clustering/cross_validation_2018-06-20_171012.csv\")"
   ]
  },
  {
   "cell_type": "code",
   "execution_count": null,
   "metadata": {},
   "outputs": [],
   "source": []
  }
 ],
 "metadata": {
  "kernelspec": {
   "display_name": "Julia 0.6.2",
   "language": "julia",
   "name": "julia-0.6"
  },
  "language_info": {
   "file_extension": ".jl",
   "mimetype": "application/julia",
   "name": "julia",
   "version": "0.6.2"
  }
 },
 "nbformat": 4,
 "nbformat_minor": 2
}
