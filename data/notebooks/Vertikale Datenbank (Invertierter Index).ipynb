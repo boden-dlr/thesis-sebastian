{
 "cells": [
  {
   "cell_type": "markdown",
   "metadata": {},
   "source": [
    "# Vertikale Datenbank für Events - Invertierter Index"
   ]
  },
  {
   "cell_type": "markdown",
   "metadata": {},
   "source": [
    "Im folgenden wird gezeigt, wie aus einer einfachen Sequenz eine Vertikale Datenbank erstellt wird."
   ]
  },
  {
   "cell_type": "code",
   "execution_count": 1,
   "metadata": {},
   "outputs": [],
   "source": [
    "using LogClustering: Index"
   ]
  },
  {
   "cell_type": "code",
   "execution_count": 16,
   "metadata": {},
   "outputs": [
    {
     "data": {
      "text/plain": [
       "Dict{Int64,Array{Int64,1}} with 7 entries:\n",
       "  7 => [6]\n",
       "  4 => [5, 16]\n",
       "  2 => [2, 9, 15]\n",
       "  3 => [3, 10]\n",
       "  5 => [4, 7, 12, 13]\n",
       "  6 => [11]\n",
       "  1 => [1, 8, 14]"
      ]
     },
     "execution_count": 16,
     "metadata": {},
     "output_type": "execute_result"
    }
   ],
   "source": [
    "#           A B C E D G E A B C F E E A B D\n",
    "sequence = [1,2,3,5,4,7,5,1,2,3,6,5,5,1,2,4]\n",
    "#                             1 1 1 1 1 1 1\n",
    "#           1 2 3 4 5 6 7 8 9 0 1 2 3 4 5 6\n",
    "\n",
    "vertical = Index.invert(sequence)"
   ]
  },
  {
   "cell_type": "markdown",
   "metadata": {},
   "source": [
    "In einer vertikalen Datenbank werden jedem Event, dessen Auftritte Zugeordnet."
   ]
  },
  {
   "cell_type": "markdown",
   "metadata": {},
   "source": [
    "# Vertikale Datenbank für Episoden\n",
    "\n",
    "Analog zu einem inverttierten Index für Events kann dieser genutzt werden, um die Auftritte von Episoden vorzuhalten."
   ]
  },
  {
   "cell_type": "code",
   "execution_count": 3,
   "metadata": {},
   "outputs": [
    {
     "data": {
      "text/plain": [
       "7-element Array{Array{Int64,1},1}:\n",
       " [6]           \n",
       " [5, 16]       \n",
       " [2, 9, 15]    \n",
       " [3, 10]       \n",
       " [4, 7, 12, 13]\n",
       " [11]          \n",
       " [1, 8, 14]    "
      ]
     },
     "execution_count": 3,
     "metadata": {},
     "output_type": "execute_result"
    }
   ],
   "source": [
    "events = keys(vertical)\n",
    "episodes = map(event -> [event], events)\n",
    "occurrences = map(event -> vertical[event], events)"
   ]
  },
  {
   "cell_type": "code",
   "execution_count": 4,
   "metadata": {},
   "outputs": [
    {
     "data": {
      "text/plain": [
       "Dict{Array{Int64,1},Array{UnitRange{Int64},1}} with 7 entries:\n",
       "  [6] => UnitRange{Int64}[11:11]\n",
       "  [2] => UnitRange{Int64}[2:2, 9:9, 15:15]\n",
       "  [3] => UnitRange{Int64}[3:3, 10:10]\n",
       "  [5] => UnitRange{Int64}[4:4, 7:7, 12:12, 13:13]\n",
       "  [4] => UnitRange{Int64}[5:5, 16:16]\n",
       "  [1] => UnitRange{Int64}[1:1, 8:8, 14:14]\n",
       "  [7] => UnitRange{Int64}[6:6]"
      ]
     },
     "execution_count": 4,
     "metadata": {},
     "output_type": "execute_result"
    }
   ],
   "source": [
    "oSet = Dict(map(eo -> eo[1] => map(o -> o:o, eo[2]), zip(episodes, occurrences)))"
   ]
  },
  {
   "cell_type": "markdown",
   "metadata": {},
   "source": [
    "Eine Vertikale Datenbank für Episoden der Länge eins, enthät nicht mehr Information, als die Vertikale Datenbank für Events, allerdings können damit eben auch längere Episoden dargestellt werden, wie:"
   ]
  },
  {
   "cell_type": "code",
   "execution_count": 5,
   "metadata": {},
   "outputs": [],
   "source": [
    "# [1,2,3,5,4,7,5,1,2,3,6,5,5,1,2,4]\n",
    "#                    1 1 1 1 1 1 1\n",
    "#  1 2 3 4 5 6 7 8 9 0 1 2 3 4 5 6"
   ]
  },
  {
   "cell_type": "code",
   "execution_count": 8,
   "metadata": {},
   "outputs": [
    {
     "data": {
      "text/plain": [
       "Dict{Array{Int64,1},Array{UnitRange{Int64},1}} with 8 entries:\n",
       "  [6]       => UnitRange{Int64}[11:11]\n",
       "  [2]       => UnitRange{Int64}[2:2, 9:9, 15:15]\n",
       "  [3]       => UnitRange{Int64}[3:3, 10:10]\n",
       "  [5]       => UnitRange{Int64}[4:4, 7:7, 12:12, 13:13]\n",
       "  [4]       => UnitRange{Int64}[5:5, 16:16]\n",
       "  [1]       => UnitRange{Int64}[1:1, 8:8, 14:14]\n",
       "  [1, 2, 5] => UnitRange{Int64}[1:4, 1:7, 1:12, 1:13, 8:12, 8:13]\n",
       "  [7]       => UnitRange{Int64}[6:6]"
      ]
     },
     "execution_count": 8,
     "metadata": {},
     "output_type": "execute_result"
    }
   ],
   "source": [
    "oSet[[1,2,5]] = [1:4, 1:7, 1:12, 1:13, 8:12, 8:13]\n",
    "oSet"
   ]
  },
  {
   "cell_type": "markdown",
   "metadata": {},
   "source": [
    "Diese Darstellung ist zwar eindeutig, allerdings hat sie zwei Nachteile:\n",
    "\n",
    "1. Zum einen überschneiden sich die im `oSet` enthaltenen Episoden.\n",
    "\n",
    "2. Zum anderen ist nicht klar, an welcher Position, die Events zwischen der Startposition `T_s` und Endposition `T_e` eines Intervalls auftreten."
   ]
  },
  {
   "cell_type": "markdown",
   "metadata": {},
   "source": [
    "Es ist daher wünschenswert lediglich die minimalen Auftritte einer Episode zu bestimmen, um keine Überschneidenungen, außer an der Startposition oder den Endpositionen zu haben."
   ]
  },
  {
   "cell_type": "code",
   "execution_count": null,
   "metadata": {},
   "outputs": [],
   "source": []
  }
 ],
 "metadata": {
  "kernelspec": {
   "display_name": "Julia 0.6.2",
   "language": "julia",
   "name": "julia-0.6"
  },
  "language_info": {
   "file_extension": ".jl",
   "mimetype": "application/julia",
   "name": "julia",
   "version": "0.6.2"
  }
 },
 "nbformat": 4,
 "nbformat_minor": 2
}
